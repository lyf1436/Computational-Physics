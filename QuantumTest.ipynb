{
 "cells": [
  {
   "cell_type": "code",
   "execution_count": 1,
   "metadata": {},
   "outputs": [],
   "source": [
    "import numpy as np\n",
    "import scipy as sp\n",
    "import scipy.sparse\n",
    "import math\n",
    "class QuantumCircuitSparse:\n",
    "    numWires = 0\n",
    "    circuit = np.array([[0]])\n",
    "    eye = np.array([[1.]])\n",
    "    data = np.array([0])\n",
    "    sparseImplementation = False\n",
    "    calculateOnFlow = False\n",
    "    unitary = []\n",
    "    def __init__(self, numWires, input, calculateOnFlow):\n",
    "        self.numWires = numWires\n",
    "        self.calculateOnFlow = calculateOnFlow\n",
    "        self.circuit = sp.sparse.csr_matrix(sp.sparse.identity(2**numWires,dtype='complex'))\n",
    "        self.data = input   \n",
    "    def TensorProduct(self, matrices):\n",
    "        product = matrices[0]\n",
    "        for matrix in matrices[1:]:\n",
    "            product = sp.sparse.kron(product,matrix,format='csr')\n",
    "        return product \n",
    "    \n",
    "    def xyModN(self, x, N, size):\n",
    "        U = np.zeros((size, size))\n",
    "        for i in range(U.shape[0]):\n",
    "            newNum = (i * x) % N\n",
    "            if newNum >= N:\n",
    "                U[i,i] = 1\n",
    "                continue\n",
    "            U[newNum, i] = 1\n",
    "        return U\n",
    "    def AddGate(self,gate):\n",
    "        if gate[0] == 'H':\n",
    "            self.AddHadarmand(int(gate[1]))\n",
    "        elif gate[0] == 'U':\n",
    "            self.AddCAboveU(int(gate[1]), int(gate[2]), self.unitary)\n",
    "        elif gate[0] == 'P':\n",
    "            self.AddPhase(int(gate[1]),np.double(gate[2]))\n",
    "        elif gate[0] == 'CNOT':\n",
    "            self.AddCNot(int(gate[1]), int(gate[2]))\n",
    "        elif gate[0] == 'CPHASE':\n",
    "            self.AddCPhase(int(gate[1]), int(gate[2]), np.double(gate[3]))\n",
    "        elif gate[0] == 'SWAP':\n",
    "            self.AddSwap(int(gate[1]), int(gate[2]))\n",
    "        elif gate[0] == 'INVQFT':\n",
    "            self.AddInvQFT(int(gate[1]), int(gate[2]))\n",
    "        elif gate[0] == 'QFT':\n",
    "            self.AddInvQFT(int(gate[1]), int(gate[2]))\n",
    "        elif gate[0] == 'CFUNC':\n",
    "            u = self.xyModN(int(gate[-2]), int(gate[-1]),2**int(gate[3]))\n",
    "            print(u)\n",
    "            self.AddCAboveU(int(gate[1]), int(gate[2]),u)\n",
    "        elif gate[0] == 'FUNC':\n",
    "            u = self.xyModN(int(gate[-2]), int(gate[-1]),2**int(gate[2]))\n",
    "            print(u)\n",
    "            self.AddU(int(gate[1]),u)\n",
    "\n",
    "    def AddU(self, wire, matrix):\n",
    "        gateEnd = wire + int(np.log2(matrix.shape[0])) - 1\n",
    "        matrices = []\n",
    "        for i in range(wire):\n",
    "            matrices.append(sp.sparse.csr_matrix(sp.sparse.identity(2,dtype='complex')))\n",
    "        matrices.append(matrix)\n",
    "        for j in range(gateEnd+1, self.numWires, 1):\n",
    "            matrices.append(sp.sparse.csr_matrix(sp.sparse.identity(2,dtype='complex')))\n",
    "        unitary = self.TensorProduct(matrices)\n",
    "        if self.calculateOnFlow:\n",
    "            self.data = unitary @ self.data\n",
    "        else:\n",
    "            self.circuit = unitary @ self.circuit\n",
    "        return unitary\n",
    "    def AddHadarmand(self, wire):\n",
    "        H = sp.sparse.csr_matrix([[0.5**0.5,0.5**0.5],[0.5**0.5,-0.5**0.5]])\n",
    "        matrices = []\n",
    "        for i in range(self.numWires):\n",
    "            if i != wire:\n",
    "                matrices.append(sp.sparse.csr_matrix(sp.sparse.identity(2,dtype='complex')))\n",
    "            else:\n",
    "                matrices.append(H)\n",
    "        unitaryH = self.TensorProduct(matrices)\n",
    "        if self.calculateOnFlow:\n",
    "            self.data = unitaryH @ self.data\n",
    "        else:\n",
    "            self.circuit = unitaryH @ self.circuit\n",
    "        return unitaryH\n",
    "\n",
    "    def AddPhase(self, wire, theta):\n",
    "        P = sp.sparse.csr_matrix([[1.,0],[0,np.exp(1.j * theta)]])\n",
    "        matrices = []\n",
    "        for i in range(self.numWires):\n",
    "            if i != wire:\n",
    "                matrices.append(sp.sparse.csr_matrix(sp.sparse.identity(2,dtype='complex')))\n",
    "            else:\n",
    "                matrices.append(P)\n",
    "        unitaryP = self.TensorProduct(matrices)\n",
    "        if self.calculateOnFlow:\n",
    "            self.data = unitaryP @ self.data\n",
    "        else:\n",
    "            self.circuit = unitaryP @ self.circuit\n",
    "        return unitaryP\n",
    "        \n",
    "    def AddCNot(self, ctrlWire, otherWire):\n",
    "        matrices = []\n",
    "        for i in range(min(ctrlWire, otherWire)):\n",
    "            matrices.append(sp.sparse.csr_matrix(sp.sparse.identity(2,dtype='complex')))\n",
    "        identityPart = []\n",
    "        notPart = []\n",
    "        for j in range(min(ctrlWire, otherWire), max(ctrlWire, otherWire) + 1, 1):\n",
    "            if j == ctrlWire:\n",
    "                identityPart.append(sp.sparse.csr_matrix([[1.,0],[0,0]]))\n",
    "                notPart.append(sp.sparse.csr_matrix([[0,0],[0,1.]]))\n",
    "                continue\n",
    "            if j == otherWire:\n",
    "                identityPart.append(sp.sparse.identity(2,dtype='complex'))\n",
    "                notPart.append(sp.sparse.csr_matrix([[0,1.],[1.,0]]))\n",
    "                continue\n",
    "            identityPart.append(sp.sparse.identity(2,dtype='complex'))\n",
    "            notPart.append(sp.sparse.identity(2,dtype='complex'))\n",
    "        cNot = self.TensorProduct(identityPart) + self.TensorProduct(notPart)\n",
    "        matrices.append(cNot)\n",
    "        for k in range(max(ctrlWire, otherWire) + 1, self.numWires, 1):\n",
    "            matrices.append(sp.sparse.identity(2,dtype='complex'))\n",
    "        unitaryCNot = self.TensorProduct(matrices)\n",
    "        if self.calculateOnFlow:\n",
    "            self.data = unitaryCNot @ self.data\n",
    "        else:\n",
    "            self.circuit = unitaryCNot @ self.circuit\n",
    "        return unitaryCNot\n",
    "\n",
    "    def AddCAboveU(self, ctrlWire, otherWireStart, matrix):\n",
    "        matrix = np.array(matrix)\n",
    "        otherWireEnd = otherWireStart + int(np.log2(matrix.shape[0])) - 1\n",
    "        matrices = []\n",
    "        for i in range(ctrlWire):\n",
    "            matrices.append(sp.sparse.csr_matrix(sp.sparse.identity(2,dtype='complex')))\n",
    "        #from top to ctrl\n",
    "        \n",
    "\n",
    "        identityPart = [sp.sparse.csr_matrix([[1.,0],[0,0]])]\n",
    "        uPart = [sp.sparse.csr_matrix([[0,0],[0,1.]])]\n",
    "        #ctrl\n",
    "        for j in range(ctrlWire+1, otherWireStart, 1):\n",
    "            identityPart.append(sp.sparse.identity(2,dtype='complex'))\n",
    "            uPart.append(sp.sparse.identity(2,dtype='complex'))\n",
    "        #from ctrl to other\n",
    "        identityPart.append(sp.sparse.identity(matrix.shape[0],dtype='complex'))\n",
    "        uPart.append(sp.sparse.csr_matrix(matrix, dtype='complex'))\n",
    "        #other\n",
    "        \n",
    "        cU = self.TensorProduct(identityPart) + self.TensorProduct(uPart)\n",
    "        matrices.append(cU)\n",
    "        #the whole Unitary piece\n",
    "        for k in range(otherWireEnd + 1, self.numWires, 1):\n",
    "            matrices.append(sp.sparse.identity(2,dtype='complex'))\n",
    "\n",
    "        #from other to end\n",
    "        unitary = self.TensorProduct(matrices)\n",
    "        if self.calculateOnFlow:\n",
    "            self.data = unitary @ self.data\n",
    "        else:\n",
    "            self.circuit = unitary @ self.circuit\n",
    "        return unitary\n",
    "\n",
    "\n",
    "    def AddCRz(self, ctrlWire, otherWire, theta):\n",
    "        theta = theta / 2.\n",
    "        if self.sparseImplementation:\n",
    "            matrix = sp.sparse.scr_matrix([[1,0,0,0],[0,1,0,0],[0,0,np.exp(-1.j*theta/2.), 0], [0,0,0,np.exp(1.j*theta/2.)]])\n",
    "            \n",
    "    def AddNot(self, wire):\n",
    "        self.AddHadarmand(wire)\n",
    "        self.AddPhase(wire, np.pi)\n",
    "        self.AddHadarmand(wire)\n",
    "    \n",
    "    def AddRz(self, wire, theta):\n",
    "        theta = theta / 2.\n",
    "        self.AddPhase(wire, theta)\n",
    "        self.AddNot(wire)\n",
    "        self.AddPhase(wire, -theta)\n",
    "        self.AddNot(wire)\n",
    "\n",
    "    def AddSwap(self,wire1, wire2):\n",
    "        self.AddCNot(wire1, wire2)\n",
    "        self.AddCNot(wire2, wire1)\n",
    "        self.AddCNot(wire1, wire2)\n",
    "    \n",
    "    def AddCPhase(self, ctrlWire, otherWire, theta):\n",
    "        matrices = []\n",
    "        for i in range(min(ctrlWire, otherWire)):\n",
    "            matrices.append(sp.sparse.csr_matrix(sp.sparse.identity(2,dtype='complex')))\n",
    "        identityPart = []\n",
    "        phasePart = []\n",
    "        for j in range(min(ctrlWire, otherWire), max(ctrlWire, otherWire) + 1, 1):\n",
    "            if j == ctrlWire:\n",
    "                identityPart.append(sp.sparse.csr_matrix([[1.,0],[0,0]]))\n",
    "                phasePart.append(sp.sparse.csr_matrix([[0,0],[0,1]]))\n",
    "                continue\n",
    "            if j == otherWire:\n",
    "                identityPart.append(sp.sparse.identity(2,dtype='complex'))\n",
    "                phasePart.append(sp.sparse.csr_matrix([[1.,0],[0,np.exp(1.j * theta)]]))\n",
    "                continue\n",
    "            identityPart.append(sp.sparse.identity(2,dtype='complex'))\n",
    "            phasePart.append(sp.sparse.identity(2,dtype='complex'))\n",
    "        cPhase = self.TensorProduct(identityPart) + self.TensorProduct(phasePart)\n",
    "        matrices.append(cPhase)\n",
    "        for k in range(max(ctrlWire, otherWire) + 1, self.numWires, 1):\n",
    "            matrices.append(sp.sparse.identity(2,dtype='complex'))\n",
    "        unitaryCPhase = self.TensorProduct(matrices)\n",
    "        if self.calculateOnFlow:\n",
    "            self.data = unitaryCPhase @ self.data\n",
    "        else:\n",
    "            self.circuit = unitaryCPhase @ self.circuit\n",
    "        return unitaryCPhase\n",
    "    def AddQFT(self, startWire, endWire):\n",
    "        #H0\n",
    "        #P10 H1\n",
    "        #P20 P21 H2\n",
    "        self.AddHadarmand(startWire)\n",
    "        for controlWire in range(startWire+1,endWire + 1,1):\n",
    "            for otherWire in range(startWire, controlWire, 1):\n",
    "                theta = np.pi / (2**(controlWire - otherWire))\n",
    "                self.AddCPhase(controlWire, otherWire, theta)\n",
    "            self.AddHadarmand(controlWire)\n",
    "        #0 1 2 3 4 5\n",
    "        #0 1 2\n",
    "        for i in range((self.numWires-1) // 2):\n",
    "            self.AddSwap(startWire + i, endWire-i)\n",
    "\n",
    "    def AddInvQFT(self, startWire, endWire):\n",
    "        for i in range((self.numWires-1) // 2):\n",
    "            self.AddSwap(startWire + i, endWire-i)\n",
    "        \n",
    "        for controlWire in range(endWire,startWire,-1):\n",
    "            self.AddHadarmand(controlWire)\n",
    "            for otherWire in range(controlWire-1, startWire-1, -1):\n",
    "                theta = -np.pi / (2**(controlWire - otherWire))\n",
    "                self.AddCPhase(controlWire, otherWire, theta)\n",
    "        self.AddHadarmand(startWire)\n",
    "\n",
    "    def Calculate(self, input):\n",
    "        if self.calculateOnFlow:\n",
    "            result = self.data\n",
    "        else:\n",
    "            result = self.circuit @ input\n",
    "        probability = (np.abs(result)) ** 2\n",
    "        levels = np.cumsum(probability)\n",
    "        f = np.random.ranf()\n",
    "        collapsedMeasurement = np.zeros(2**self.numWires)\n",
    "        for i in range(len(levels)):\n",
    "            if f <= levels[i]:\n",
    "                collapsedMeasurement[i] = 1\n",
    "                break\n",
    "        return {'stateVectors':result, 'probabilities':probability, 'measurement':collapsedMeasurement}\n",
    "    \n",
    "\n",
    "\n",
    "#deprecated        \n",
    "class QuantumCircuit:\n",
    "    numWires = 0\n",
    "    circuit = np.array([[0]])\n",
    "    eye = np.array([[1.]])\n",
    "    data = np.array([0])\n",
    "    sparseImplementation = False\n",
    "    calculateOnFlow = False\n",
    "    def __init__(self, numWires, input, calculateOnFlow, sparseImplementation):\n",
    "        self.numWires = numWires\n",
    "        self.calculateOnFlow = calculateOnFlow\n",
    "        self.sparseImplementation = sparseImplementation\n",
    "        if sparseImplementation:\n",
    "            self.circuit = sp.sparse.csr_matrix(sp.sparse.identity(2**numWires,dtype='complex'))\n",
    "            self.data = input        \n",
    "            return\n",
    "        else:\n",
    "            self.circuit = np.eye(2**self.numWires)\n",
    "            self.data = input\n",
    "            return\n",
    "    def TensorProduct(self, matrices):\n",
    "        if self.sparseImplementation:\n",
    "            product = matrices[0]\n",
    "            for matrix in matrices[1:]:\n",
    "                product = sp.sparse.kron(product,matrix,format='csr')\n",
    "            return product \n",
    "        else:\n",
    "            product = matrices[0]\n",
    "            for matrix in matrices[1:]:\n",
    "                product = np.kron(product, matrix)\n",
    "            return product \n",
    "    def AddGate(self,gate):\n",
    "        if gate[0] == 'H':\n",
    "            self.AddHadarmand(int(gate[1]))\n",
    "        elif gate[0] == 'P':\n",
    "            self.AddPhase(int(gate[1]),np.double(gate[2]))\n",
    "        elif gate[0] == 'CNOT':\n",
    "            self.AddCNot(int(gate[1]), int(gate[2]))\n",
    "    def AddHadarmand(self, wire):\n",
    "        if self.sparseImplementation:\n",
    "            H = sp.sparse.csr_matrix([[0.5**0.5,0.5**0.5],[0.5**0.5,-0.5**0.5]])\n",
    "            matrices = []\n",
    "            for i in range(self.numWires):\n",
    "                if i != wire:\n",
    "                    matrices.append(sp.sparse.csr_matrix(sp.sparse.identity(2,dtype='complex')))\n",
    "                else:\n",
    "                    matrices.append(H)\n",
    "        else:\n",
    "            H = 0.5**0.5 * np.array([[1.,1],[1,-1]])\n",
    "            matrices = []\n",
    "            for i in range(self.numWires):\n",
    "                if i != wire:\n",
    "                    matrices.append(np.eye(2))\n",
    "                else:\n",
    "                    matrices.append(H)\n",
    "        unitaryH = self.TensorProduct(matrices)\n",
    "        if self.calculateOnFlow:\n",
    "            self.data = unitaryH @ self.data\n",
    "        else:\n",
    "            self.circuit = unitaryH @ self.circuit\n",
    "        return unitaryH\n",
    "\n",
    "    def AddPhase(self, wire, theta):\n",
    "        if self.sparseImplementation:\n",
    "            P = sp.sparse.csr_matrix([[1.,0],[0,np.exp(1.j * theta)]])\n",
    "            matrices = []\n",
    "            for i in range(self.numWires):\n",
    "                if i != wire:\n",
    "                    matrices.append(sp.sparse.csr_matrix(sp.sparse.identity(2,dtype='complex')))\n",
    "                else:\n",
    "                    matrices.append(P)\n",
    "        else:\n",
    "            P = np.array([[1.,0],[0,np.exp(1.j * theta)]])\n",
    "            matrices = []\n",
    "            for i in range(self.numWires):\n",
    "                if i != wire:\n",
    "                    matrices.append(np.eye(2))\n",
    "                else:\n",
    "                    matrices.append(P)\n",
    "        unitaryP = self.TensorProduct(matrices)\n",
    "        if self.calculateOnFlow:\n",
    "            self.data = unitaryP @ self.data\n",
    "        else:\n",
    "            self.circuit = unitaryP @ self.circuit\n",
    "        return unitaryP\n",
    "    \n",
    "    def AddCNot(self, ctrlWire, otherWire):\n",
    "        if self.sparseImplementation:\n",
    "            matrices = []\n",
    "            for i in range(min(ctrlWire, otherWire)):\n",
    "                matrices.append(sp.sparse.csr_matrix(sp.sparse.identity(2,dtype='complex')))\n",
    "            identityPart = []\n",
    "            notPart = []\n",
    "            for j in range(min(ctrlWire, otherWire), max(ctrlWire, otherWire) + 1, 1):\n",
    "                if j == ctrlWire:\n",
    "                    identityPart.append(sp.sparse.csr_matrix([[1.,0],[0,0]]))\n",
    "                    notPart.append(sp.sparse.csr_matrix([[0,0],[0,1.]]))\n",
    "                    continue\n",
    "                if j == otherWire:\n",
    "                    identityPart.append(sp.sparse.identity(2,dtype='complex'))\n",
    "                    notPart.append(sp.sparse.csr_matrix([[0,1.],[1.,0]]))\n",
    "                    continue\n",
    "                identityPart.append(sp.sparse.identity(2,dtype='complex'))\n",
    "                notPart.append(sp.sparse.identity(2,dtype='complex'))\n",
    "            cNot = self.TensorProduct(identityPart) + self.TensorProduct(notPart)\n",
    "            matrices.append(cNot)\n",
    "            for k in range(max(ctrlWire, otherWire) + 1, self.numWires, 1):\n",
    "                matrices.append(sp.sparse.identity(2,dtype='complex'))\n",
    "        else:\n",
    "            matrices = []\n",
    "            for i in range(min(ctrlWire, otherWire)):\n",
    "                matrices.append(np.eye(2))\n",
    "            identityPart = []\n",
    "            notPart = []\n",
    "            for j in range(min(ctrlWire, otherWire), max(ctrlWire, otherWire) + 1, 1):\n",
    "                if j == ctrlWire:\n",
    "                    identityPart.append(np.array([[1.,0],[0,0]]))\n",
    "                    notPart.append(np.array([[0,0],[0,1.]]))\n",
    "                    continue\n",
    "                if j == otherWire:\n",
    "                    identityPart.append(np.eye(2))\n",
    "                    notPart.append(np.array([[0,1.],[1,0]]))\n",
    "                    continue\n",
    "                identityPart.append(np.eye(2))\n",
    "                notPart.append(np.eye(2))\n",
    "            cNot = self.TensorProduct(identityPart) + self.TensorProduct(notPart)\n",
    "            matrices.append(cNot)\n",
    "            for k in range(max(ctrlWire, otherWire) + 1, self.numWires, 1):\n",
    "                matrices.append(np.eye(2))\n",
    "        unitaryCNot = self.TensorProduct(matrices)\n",
    "        if self.calculateOnFlow:\n",
    "            self.data = unitaryCNot @ self.data\n",
    "        else:\n",
    "            self.circuit = unitaryCNot @ self.circuit\n",
    "        return unitaryCNot\n",
    "    def AddCRz(self, ctrlWire, otherWire, theta):\n",
    "        theta = theta / 2.\n",
    "        if self.sparseImplementation:\n",
    "            matrix = sp.sparse.scr_matrix([[1,0,0,0],[0,1,0,0],[0,0,np.exp(-1.j*theta/2.), 0], [0,0,0,np.exp(1.j*theta/2.)]])\n",
    "            \n",
    "    def AddNot(self, wire):\n",
    "        self.AddHadarmand(wire)\n",
    "        self.AddPhase(wire, np.pi)\n",
    "        self.AddHadarmand(wire)\n",
    "    \n",
    "    def AddRz(self, wire, theta):\n",
    "        theta = theta / 2.\n",
    "        self.AddPhase(wire, theta)\n",
    "        self.AddNot(wire)\n",
    "        self.AddPhase(wire, -theta)\n",
    "        self.AddNot(wire)\n",
    "\n",
    "    def AddSwap(self,wire1, wire2):\n",
    "        self.AddCNot(wire1, wire2)\n",
    "        self.AddCNot(wire2, wire1)\n",
    "        self.AddCNot(wire1, wire2)\n",
    "    \n",
    "    def AddCPhase(self, ctrlWire, otherWire, theta):\n",
    "        CPhaseNeighbor = sp.sparse.scr_matrix([[1,0,0,0],[0,1,0,0],[0,0,1,0],[0,0,0,np.exp(1.j*theta)]])\n",
    "\n",
    "    def Calculate(self, input):\n",
    "        if self.calculateOnFlow:\n",
    "            result = self.data\n",
    "        else:\n",
    "            result = self.circuit @ input\n",
    "        probability = (np.abs(result)) ** 2\n",
    "        levels = np.cumsum(probability)\n",
    "        f = np.random.ranf()\n",
    "        collapsedMeasurement = np.zeros(2**self.numWires)\n",
    "        for i in range(len(levels)):\n",
    "            if f <= levels[i]:\n",
    "                collapsedMeasurement[i] = 1\n",
    "                break\n",
    "        return {'stateVectors':result, 'probabilities':probability, 'measurement':collapsedMeasurement}\n"
   ]
  },
  {
   "cell_type": "code",
   "execution_count": 2,
   "metadata": {},
   "outputs": [],
   "source": [
    "def PrettyPrintBinary(myState):\n",
    "    for density, state in myState:\n",
    "        prettyStateStr = str(density) + '  |' + state + '>'\n",
    "        print(prettyStateStr + '   ')\n",
    "        \n",
    "def PrettyPrintInteger(myState):\n",
    "    for density, stateAsBinary in myState:\n",
    "        stateAsInt = 0\n",
    "        for exponent, bit in enumerate(stateAsBinary):\n",
    "            stateAsInt += int(bit) * 2 ** (len(stateAsBinary)-1-exponent)\n",
    "        prettyStateStr = str(density) + '  |' + str(stateAsInt) + '>'\n",
    "        print(prettyStateStr + '   ')\n",
    "\n",
    "def StateToVec(myState):\n",
    "    vector = np.zeros(2**len(myState[0][1]), dtype=np.cdouble)\n",
    "    for density, stateAsBinary in myState:\n",
    "        stateAsInt = 0\n",
    "        for exponent, bit in enumerate(stateAsBinary):\n",
    "            stateAsInt += int(bit) * 2 ** (len(stateAsBinary)-1-exponent)\n",
    "        vector[stateAsInt] = density\n",
    "    return np.array(vector)\n",
    "\n",
    "def VecToState(myStateAsVector):\n",
    "    myState = []\n",
    "    for i, density in enumerate(myStateAsVector):\n",
    "        if density == 0 + 0j:\n",
    "            continue\n",
    "        state = str(bin(i))[2:].zfill(int(math.log2(len(myStateAsVector))))\n",
    "        myState.append((density, state))\n",
    "    return myState\n",
    "def ReadState(fileName):\n",
    "    myState_lines=open(fileName).readlines()\n",
    "    myState=np.zeros(len(myState_lines), dtype=np.cdouble)\n",
    "    for i in range(len(myState_lines)):\n",
    "        real, complex = myState_lines[i].split(' ')\n",
    "        real = float(real)\n",
    "        complex = float(complex)\n",
    "        myState[i] = real + complex * 1.j\n",
    "    return myState\n",
    "\n",
    "def ReadInput(fileName):\n",
    "    myInput_lines=open(fileName).readlines()\n",
    "    gates=[]\n",
    "    numberOfWires=int(myInput_lines[0])\n",
    "    input = np.zeros(2**numberOfWires)\n",
    "    input[0] = 1\n",
    "    circuitStartIndex = 1\n",
    "    circuitEndIndex = len(myInput_lines)\n",
    "    if myInput_lines[1][:9] =='INITSTATE':\n",
    "        instantiate, mode, value = myInput_lines[1].split(' ')\n",
    "        circuitStartIndex = 2\n",
    "        if mode=='BASIS':\n",
    "            input = StateToVec([(1,value.strip()[1:-1])])\n",
    "        if mode == 'FILE':\n",
    "            input = ReadState(value.strip())\n",
    "    ifMeasure = False\n",
    "    if myInput_lines[-1][:7] =='MEASURE':\n",
    "        circuitEndIndex = len(myInput_lines) - 1\n",
    "        ifMeasure = True\n",
    "    for line in myInput_lines[circuitStartIndex:circuitEndIndex]:\n",
    "        gates.append(line.split())\n",
    "    return (numberOfWires,gates, input, ifMeasure)\n",
    "\n",
    "def ReadAndRun(fileName):\n",
    "    numberOfWires,gates, input, ifMeasure = ReadInput(fileName)\n",
    "    circuit = QuantumCircuitSparse(numberOfWires, input, True)\n",
    "    for gate in gates:\n",
    "        circuit.AddGate(gate)\n",
    "    result = circuit.Calculate(input)\n",
    "    if ifMeasure:\n",
    "        return result['probabilities']\n",
    "    else:\n",
    "        return result['stateVectors']"
   ]
  },
  {
   "cell_type": "code",
   "execution_count": 3,
   "metadata": {},
   "outputs": [
    {
     "data": {
      "text/plain": [
       "<BarContainer object of 32 artists>"
      ]
     },
     "execution_count": 3,
     "metadata": {},
     "output_type": "execute_result"
    },
    {
     "data": {
      "image/png": "[encoded data removed]",
      "text/plain": [
       "<Figure size 432x288 with 1 Axes>"
      ]
     },
     "metadata": {
      "needs_background": "light"
     },
     "output_type": "display_data"
    }
   ],
   "source": [
    "import matplotlib.pyplot as plt\n",
    "\n",
    "probabilities = ReadAndRun('measure.circuit')\n",
    "x = [i for i in range(2**5)]\n",
    "plt.bar(x, probabilities)"
   ]
  },
  {
   "cell_type": "code",
   "execution_count": 51,
   "metadata": {},
   "outputs": [
    {
     "name": "stdout",
     "output_type": "stream",
     "text": [
      "[((1+0j), '001110')]\n"
     ]
    }
   ],
   "source": [
    "import time\n",
    "numWires, gates, input, ifmeasure = ReadInput('swap.circuit')\n",
    "state = '000111'\n",
    "myState = [(1, state)]\n",
    "myStateVec = StateToVec(myState)\n",
    "circuit = QuantumCircuitSparse(numWires, myStateVec, True)\n",
    "for gate in gates:\n",
    "    circuit.AddGate(gate)\n",
    "result = circuit.Calculate(myStateVec)\n",
    "print(VecToState(result['stateVectors']))\n",
    "\n",
    "#Rz = PXPX\n",
    "#Not = HP(pi)H"
   ]
  },
  {
   "cell_type": "code",
   "execution_count": 30,
   "metadata": {},
   "outputs": [
    {
     "name": "stdout",
     "output_type": "stream",
     "text": [
      "(0.7071067811865476+0j)  |000000000>   \n",
      "(0.7071067811865476+0j)  |100000000>   \n"
     ]
    }
   ],
   "source": [
    "PrettyPrintBinary(VecToState(ReadAndRun('cphase.circuit')))"
   ]
  },
  {
   "cell_type": "code",
   "execution_count": 7,
   "metadata": {},
   "outputs": [
    {
     "name": "stdout",
     "output_type": "stream",
     "text": [
      "{'stateVectors': array([5.40302306e-01-0.84147098j, 5.55111512e-17+0.j        ]), 'probabilities': array([1.00000000e+00, 3.08148791e-33]), 'measurement': array([1., 0.])}\n"
     ]
    },
    {
     "data": {
      "text/plain": [
       "-1.0"
      ]
     },
     "execution_count": 7,
     "metadata": {},
     "output_type": "execute_result"
    }
   ],
   "source": [
    "myState = [(1, '0')]\n",
    "myStateVec = StateToVec(myState)\n",
    "theta = 1.0\n",
    "RZGateCircuit = QuantumCircuit(1, myStateVec, True, True)\n",
    "RZGateCircuit.AddPhase(0, theta)\n",
    "RZGateCircuit.AddNot(0)\n",
    "RZGateCircuit.AddPhase(0, -theta)\n",
    "RZGateCircuit.AddNot(0)\n",
    "result = RZGateCircuit.Calculate(myStateVec)\n",
    "print(result)\n",
    "np.angle(result['stateVectors'][0])"
   ]
  },
  {
   "cell_type": "markdown",
   "metadata": {},
   "source": [
    "### Time complexity check"
   ]
  },
  {
   "cell_type": "code",
   "execution_count": 14,
   "metadata": {},
   "outputs": [
    {
     "data": {
      "text/plain": [
       "Text(0.5, 0, 'qubits')"
      ]
     },
     "execution_count": 14,
     "metadata": {},
     "output_type": "execute_result"
    },
    {
     "data": {
      "image/png": "[encoded data removed]",
      "text/plain": [
       "<Figure size 432x288 with 1 Axes>"
      ]
     },
     "metadata": {
      "needs_background": "light"
     },
     "output_type": "display_data"
    }
   ],
   "source": [
    "import time\n",
    "import matplotlib.pyplot as plt\n",
    "baseTime = []\n",
    "calculateOnFlowTime = []\n",
    "sparseImplementationTime = []\n",
    "\n",
    "for numWires in range(1, 20, 1):\n",
    "    myStateVec = np.zeros(2**numWires)\n",
    "    if numWires <= 11:\n",
    "        t0 = time.time()\n",
    "        circuit = QuantumCircuit(numWires, myStateVec, False, False)\n",
    "        for wire in range(numWires):\n",
    "            circuit.AddHadarmand(wire)\n",
    "        circuit.Calculate(myStateVec)\n",
    "        baseTime.append(time.time() - t0)\n",
    "\n",
    "    if numWires <= 11:\n",
    "        t0 = time.time()\n",
    "        circuit = QuantumCircuit(numWires, myStateVec, True, False)\n",
    "        for wire in range(numWires):\n",
    "            circuit.AddHadarmand(wire)\n",
    "        circuit.Calculate(myStateVec)\n",
    "        calculateOnFlowTime.append(time.time() - t0)\n",
    "\n",
    "    t0 = time.time()\n",
    "    circuit = QuantumCircuit(numWires, myStateVec, True, True)\n",
    "    for wire in range(numWires):\n",
    "        circuit.AddHadarmand(wire)\n",
    "    circuit.Calculate(myStateVec)\n",
    "    sparseImplementationTime.append(time.time() - t0)\n",
    "plt.plot(baseTime)\n",
    "plt.plot(calculateOnFlowTime)\n",
    "plt.plot(sparseImplementationTime)\n",
    "plt.ylabel('Time(seconds)')\n",
    "plt.xlabel('qubits')"
   ]
  },
  {
   "cell_type": "markdown",
   "metadata": {},
   "source": [
    "## Phase Estimate"
   ]
  },
  {
   "cell_type": "markdown",
   "metadata": {},
   "source": [
    "### test phase finding"
   ]
  },
  {
   "cell_type": "code",
   "execution_count": 470,
   "metadata": {},
   "outputs": [
    {
     "data": {
      "text/plain": [
       "[<matplotlib.lines.Line2D at 0x2beb655ef70>]"
      ]
     },
     "execution_count": 470,
     "metadata": {},
     "output_type": "execute_result"
    },
    {
     "data": {
      "image/png": "[encoded data removed]",
      "text/plain": [
       "<Figure size 432x288 with 1 Axes>"
      ]
     },
     "metadata": {
      "needs_background": "light"
     },
     "output_type": "display_data"
    }
   ],
   "source": [
    "import matplotlib.pyplot as plt\n",
    "myState = [(1, '01')]\n",
    "myStateVec = StateToVec(myState)\n",
    "thetaList = []\n",
    "phiList = []\n",
    "for i in range(100):\n",
    "    circuit = QuantumCircuitSparse(2, myStateVec, True)\n",
    "    circuit.AddHadarmand(0)\n",
    "    phi = i * np.pi * 2 / 100.0\n",
    "    circuit.AddCPhase(0,1,phi)\n",
    "    circuit.AddHadarmand(0)\n",
    "    probs = circuit.Calculate(myStateVec)['probabilities']\n",
    "    maxInd = np.argmax(probs)\n",
    "    probs = np.zeros_like(probs)\n",
    "    probs[maxInd] = 1\n",
    "    state = VecToState(probs)\n",
    "    binTheta = state[0][1][:-1]\n",
    "    floatTheta = 0.0\n",
    "    for i in range(len(binTheta)):\n",
    "        floatTheta += int(binTheta[i]) * 2**(-(i+1))\n",
    "    thetaList.append(floatTheta)\n",
    "    phiList.append(phi/ (np.pi * 2.0))\n",
    "plt.plot(phiList, thetaList)\n"
   ]
  },
  {
   "cell_type": "code",
   "execution_count": 471,
   "metadata": {},
   "outputs": [
    {
     "data": {
      "text/plain": [
       "[<matplotlib.lines.Line2D at 0x2beb7569820>]"
      ]
     },
     "execution_count": 471,
     "metadata": {},
     "output_type": "execute_result"
    },
    {
     "data": {
      "image/png": "[encoded data removed]",
      "text/plain": [
       "<Figure size 432x288 with 1 Axes>"
      ]
     },
     "metadata": {
      "needs_background": "light"
     },
     "output_type": "display_data"
    }
   ],
   "source": [
    "#0.1432394487827058\n",
    "import matplotlib.pyplot as plt\n",
    "myState = [(1, '01')]\n",
    "myStateVec = StateToVec(myState)\n",
    "circuit = QuantumCircuitSparse(2, myStateVec, True)\n",
    "circuit.AddHadarmand(0)\n",
    "phi = 0.1432394487827058 * 2 * np.pi\n",
    "circuit.AddCPhase(0,1,phi)\n",
    "circuit.AddHadarmand(0)\n",
    "probsVec = circuit.Calculate(myStateVec)['probabilities']\n",
    "probsStates = VecToState(probsVec)\n",
    "probTheta = []\n",
    "for state in probsStates:\n",
    "    probTheta.append(state[0])\n",
    "states = np.array(range(2))\n",
    "states = states/2\n",
    "plt.bar(states, probTheta, width = 0.5)\n",
    "plt.plot([0.1432, 0.1432], [0,1])\n"
   ]
  },
  {
   "cell_type": "code",
   "execution_count": 472,
   "metadata": {},
   "outputs": [
    {
     "data": {
      "text/plain": [
       "[<matplotlib.lines.Line2D at 0x2beb75da160>]"
      ]
     },
     "execution_count": 472,
     "metadata": {},
     "output_type": "execute_result"
    },
    {
     "data": {
      "image/png": "[encoded data removed]",
      "text/plain": [
       "<Figure size 432x288 with 1 Axes>"
      ]
     },
     "metadata": {
      "needs_background": "light"
     },
     "output_type": "display_data"
    }
   ],
   "source": [
    "myState = [(1, '001')]\n",
    "myStateVec = StateToVec(myState)\n",
    "thetaList = []\n",
    "phiList = []\n",
    "for i in range(100):\n",
    "    circuit = QuantumCircuitSparse(3, myStateVec, True)\n",
    "    circuit.AddHadarmand(0)\n",
    "    circuit.AddHadarmand(1)\n",
    "    phi = i * np.pi * 2 / 100.0\n",
    "    circuit.AddCPhase(1,2,phi)\n",
    "    circuit.AddCPhase(0,2,phi)\n",
    "    circuit.AddCPhase(0,2,phi)\n",
    "    circuit.AddHadarmand(0)\n",
    "    circuit.AddCPhase(0,1, -np.pi / 2.0)\n",
    "    circuit.AddHadarmand(1)\n",
    "    circuit.AddSwap(0,1)\n",
    "    probs = circuit.Calculate(myStateVec)['probabilities']\n",
    "    maxInd = np.argmax(probs)\n",
    "    probs = np.zeros_like(probs)\n",
    "    probs[maxInd] = 1\n",
    "    state = VecToState(probs)\n",
    "    binTheta = state[0][1][:-1]\n",
    "    floatTheta = 0.0\n",
    "    for i in range(len(binTheta)):\n",
    "        floatTheta += int(binTheta[i]) * 2**(-(i+1))\n",
    "    thetaList.append(floatTheta)\n",
    "    phiList.append(phi/ (np.pi * 2.0))\n",
    "plt.plot(phiList, thetaList)"
   ]
  },
  {
   "cell_type": "code",
   "execution_count": 473,
   "metadata": {},
   "outputs": [
    {
     "data": {
      "text/plain": [
       "[<matplotlib.lines.Line2D at 0x2beb763b790>]"
      ]
     },
     "execution_count": 473,
     "metadata": {},
     "output_type": "execute_result"
    },
    {
     "data": {
      "image/png": "[encoded data removed]",
      "text/plain": [
       "<Figure size 432x288 with 1 Axes>"
      ]
     },
     "metadata": {
      "needs_background": "light"
     },
     "output_type": "display_data"
    }
   ],
   "source": [
    "#0.1432394487827058\n",
    "import matplotlib.pyplot as plt\n",
    "myState = [(1, '001')]\n",
    "myStateVec = StateToVec(myState)\n",
    "circuit = QuantumCircuitSparse(3, myStateVec, True)\n",
    "circuit.AddHadarmand(0)\n",
    "circuit.AddHadarmand(1)\n",
    "phi = 0.1432394487827058 * 2 * np.pi\n",
    "circuit.AddCPhase(1,2,phi)\n",
    "circuit.AddCPhase(0,2,phi)\n",
    "circuit.AddCPhase(0,2,phi)\n",
    "circuit.AddHadarmand(0)\n",
    "circuit.AddCPhase(0,1, -np.pi / 2.0)\n",
    "circuit.AddHadarmand(1)\n",
    "circuit.AddSwap(0,1)\n",
    "probsVec = circuit.Calculate(myStateVec)['probabilities']\n",
    "probsStates = VecToState(probsVec)\n",
    "probTheta = []\n",
    "for state in probsStates:\n",
    "    probTheta.append(state[0])\n",
    "states = np.array(range(4))\n",
    "states = states / 4\n",
    "plt.bar(states, probTheta, width=0.25)\n",
    "plt.plot([0.1432, 0.1432], [0,1])"
   ]
  },
  {
   "cell_type": "markdown",
   "metadata": {},
   "source": [
    "#### Frourier Transform"
   ]
  },
  {
   "cell_type": "code",
   "execution_count": 9,
   "metadata": {},
   "outputs": [
    {
     "data": {
      "text/plain": [
       "[<matplotlib.lines.Line2D at 0x15ef6161700>]"
      ]
     },
     "execution_count": 9,
     "metadata": {},
     "output_type": "execute_result"
    },
    {
     "data": {
      "image/png": "[encoded data removed]",
      "text/plain": [
       "<Figure size 432x288 with 1 Axes>"
      ]
     },
     "metadata": {
      "needs_background": "light"
     },
     "output_type": "display_data"
    }
   ],
   "source": [
    "myState = [(1, '00001')]\n",
    "myStateVec = StateToVec(myState)\n",
    "thetaList = []\n",
    "phiList = []\n",
    "numPrecisionWires = 4\n",
    "for i in range(100):\n",
    "    circuit = QuantumCircuitSparse(numPrecisionWires+1, myStateVec, True)\n",
    "    for h in range(numPrecisionWires):\n",
    "        circuit.AddHadarmand(h)\n",
    "    phi = i * np.pi * 2 / 100.0\n",
    "    for ctrl in range(numPrecisionWires):\n",
    "        for output in range(2 ** ctrl):\n",
    "            circuit.AddCPhase(numPrecisionWires-1-ctrl,numPrecisionWires,phi)\n",
    "    circuit.AddInvQFT(0,numPrecisionWires-1)\n",
    "    probs = circuit.Calculate(myStateVec)['probabilities']\n",
    "    maxInd = np.argmax(probs)\n",
    "    probs = np.zeros_like(probs)\n",
    "    probs[maxInd] = 1\n",
    "    state = VecToState(probs)\n",
    "    binTheta = state[0][1][:-1]\n",
    "    floatTheta = 0.0\n",
    "    for i in range(len(binTheta)):\n",
    "        floatTheta += int(binTheta[i]) * 2**(-(i+1))\n",
    "    thetaList.append(floatTheta)\n",
    "    phiList.append(phi/ (np.pi * 2.0))\n",
    "plt.plot(phiList, thetaList)"
   ]
  },
  {
   "cell_type": "code",
   "execution_count": 474,
   "metadata": {},
   "outputs": [
    {
     "name": "stdout",
     "output_type": "stream",
     "text": [
      "64\n",
      "64\n"
     ]
    },
    {
     "name": "stderr",
     "output_type": "stream",
     "text": [
      "C:\\Users\\Yubisoft\\anaconda3\\envs\\scientific\\lib\\site-packages\\matplotlib\\transforms.py:775: ComplexWarning: Casting complex values to real discards the imaginary part\n",
      "  points = np.asarray(points, float)\n"
     ]
    },
    {
     "data": {
      "text/plain": [
       "[<matplotlib.lines.Line2D at 0x2beb767d190>]"
      ]
     },
     "execution_count": 474,
     "metadata": {},
     "output_type": "execute_result"
    },
    {
     "data": {
      "image/png": "[encoded data removed]",
      "text/plain": [
       "<Figure size 432x288 with 1 Axes>"
      ]
     },
     "metadata": {
      "needs_background": "light"
     },
     "output_type": "display_data"
    }
   ],
   "source": [
    "probsVec = np.abs(ReadAndRun('6wirePhase.circuit'))\n",
    "probsStates = VecToState(probsVec)\n",
    "#get rid of duplicate states: the last bit can be 0 or 1, with same probability\n",
    "for i in range(len(probsStates)):\n",
    "    probsStates[i] = (probsStates[i][0], probsStates[i][1][:-1])\n",
    "probsStates = VecToState(StateToVec(probsStates))\n",
    "\n",
    "probTheta = []\n",
    "for state in probsStates:\n",
    "    probTheta.append(state[0])\n",
    "states = np.array(range(2**6))\n",
    "states = states / 2.0**6\n",
    "print(len(states))\n",
    "print(len(probTheta))\n",
    "plt.bar(states, probTheta, width=1.0 / 2**6)\n",
    "plt.plot([0.143,0.143],[0,1])"
   ]
  },
  {
   "cell_type": "markdown",
   "metadata": {},
   "source": [
    "# Phase measurement wrapper func"
   ]
  },
  {
   "cell_type": "markdown",
   "metadata": {},
   "source": [
    "demostrate QFT"
   ]
  },
  {
   "cell_type": "code",
   "execution_count": 83,
   "metadata": {},
   "outputs": [
    {
     "name": "stdout",
     "output_type": "stream",
     "text": [
      "1  |01>   \n",
      "(0.5000000000000001+0j)  |00>   \n",
      "(-0.5000000000000001+0j)  |01>   \n",
      "(0.5000000000000001+0j)  |10>   \n",
      "(-0.5000000000000001+0j)  |11>   \n"
     ]
    }
   ],
   "source": [
    "import numpy.linalg as la\n",
    "myState = [(1, '01')]\n",
    "myStateVec = StateToVec(myState)\n",
    "PrettyPrintBinary(myState)\n",
    "testCircuit2 = QuantumCircuitSparse(2, myStateVec, True)\n",
    "testCircuit2.AddInvQFT(0,1)\n",
    "PrettyPrintBinary(VecToState(testCircuit2.Calculate(myStateVec)['stateVectors']))"
   ]
  },
  {
   "cell_type": "code",
   "execution_count": 99,
   "metadata": {},
   "outputs": [
    {
     "name": "stdout",
     "output_type": "stream",
     "text": [
      "(-0.040280172843978994-0.2209221858097979j)  |00000>   \n",
      "(0.14110242611258716+0.16650808261166428j)  |00001>   \n",
      "(0.18477309891527147+0.06390445657675543j)  |00010>   \n",
      "(0.00028527132556335766-0.022246985487152482j)  |00011>   \n",
      "(0.1566593732644432-0.08463583856503612j)  |00100>   \n",
      "(0.21186219852653598-0.13549377193560455j)  |00101>   \n",
      "(0.02443656354617315+0.007291647371941313j)  |00110>   \n",
      "(0.12275573414814138-0.20487331415853335j)  |00111>   \n",
      "(0.21663304951566456+0.020112971083311827j)  |01000>   \n",
      "(0.10723693789509368+0.0013057823514517307j)  |01001>   \n",
      "(-0.23523338562565801-0.0009765323146217371j)  |01010>   \n",
      "(-0.07704606573094865-0.1673917459145034j)  |01011>   \n",
      "(-0.001440569053744907+0.1086347996514284j)  |01100>   \n",
      "(-0.045213012026622604-0.11330274327482462j)  |01101>   \n",
      "(-0.19912455571863333-0.11323570695048289j)  |01110>   \n",
      "(-0.1594660009530418+0.14668225282002412j)  |01111>   \n",
      "(-0.03374953559586267+0.0794227539691016j)  |10000>   \n",
      "(0.027995996982162083-0.0006560027147068798j)  |10001>   \n",
      "(-0.028812459116675987-0.08531366289419075j)  |10010>   \n",
      "(-0.25335159179771893-0.23087483698943012j)  |10011>   \n",
      "(0.24414416577410572+0.038853899872371395j)  |10100>   \n",
      "(-0.12503365026646246-0.00734752238153355j)  |10101>   \n",
      "(-0.14934362602958884-0.04265338448761499j)  |10110>   \n",
      "(0.17684418571117033-0.05058456739571501j)  |10111>   \n",
      "(-0.1181063565344879+0.01623973860915606j)  |11000>   \n",
      "(-0.10529823498224498+0.038635072474323434j)  |11001>   \n",
      "(-0.029289525816246692+0.012532684274186417j)  |11010>   \n",
      "(-0.21405643426925497+0.08433455953812152j)  |11011>   \n",
      "(0.12578799246104264-0.024521868184704185j)  |11100>   \n",
      "(-0.07697244593325296-0.12275736706850496j)  |11101>   \n",
      "(0.07630073206041763-0.11869394467289089j)  |11110>   \n",
      "(-0.17228309183862878+0.0020356731158599622j)  |11111>   \n"
     ]
    }
   ],
   "source": [
    "myStateVec = ReadState('myInputState.txt')\n",
    "testCircuit = QuantumCircuitSparse(5, myStateVec, True)\n",
    "testCircuit.AddQFT(0,4)\n",
    "PrettyPrintBinary(VecToState(testCircuit.Calculate(myStateVec)['stateVectors']))"
   ]
  },
  {
   "cell_type": "markdown",
   "metadata": {},
   "source": [
    "### demonstrate phase estimation with unitary gate"
   ]
  },
  {
   "cell_type": "code",
   "execution_count": 499,
   "metadata": {},
   "outputs": [
    {
     "name": "stdout",
     "output_type": "stream",
     "text": [
      "(0.7648421872844888+0.6442176872376911j)  |0>   \n",
      "(-1.5643707157699578e-16+1.3392009728585283e-17j)  |1>   \n",
      "32\n",
      "32\n"
     ]
    },
    {
     "data": {
      "text/plain": [
       "<BarContainer object of 32 artists>"
      ]
     },
     "execution_count": 499,
     "metadata": {},
     "output_type": "execute_result"
    },
    {
     "data": {
      "image/png": "[encoded data removed]",
      "text/plain": [
       "<Figure size 432x288 with 1 Axes>"
      ]
     },
     "metadata": {
      "needs_background": "light"
     },
     "output_type": "display_data"
    }
   ],
   "source": [
    "myState = [(1, '0')]\n",
    "myStateVec = StateToVec(myState)\n",
    "unitary = QuantumCircuitSparse(1, myStateVec, False)\n",
    "unitary.AddNot(0)\n",
    "unitary.AddPhase(0,0.7)\n",
    "unitary.AddNot(0)\n",
    "unitary.AddPhase(0,0.7)\n",
    "u = (unitary.circuit).todense()\n",
    "PrettyPrintBinary(VecToState(unitary.Calculate(myStateVec)['stateVectors']))\n",
    "\n",
    "myState2 = [(1, '100000')]\n",
    "myStateVec2 = StateToVec(myState)\n",
    "numberOfWires,gates, input, ifMeasure = ReadInput('customU.circuit')\n",
    "circuit = QuantumCircuitSparse(numberOfWires, input, True)\n",
    "circuit.unitary = u\n",
    "for gate in gates:\n",
    "    circuit.AddGate(gate)\n",
    "result = circuit.Calculate(input)\n",
    "probsVec = result['probabilities']\n",
    "probsStates = VecToState(probsVec)\n",
    "#get rid of duplicate states: the last bit can be 0 or 1, with same probability\n",
    "for i in range(len(probsStates)):\n",
    "    probsStates[i] = (probsStates[i][0], probsStates[i][1][:-1])\n",
    "probsStates = VecToState(StateToVec(probsStates))\n",
    "\n",
    "probTheta = []\n",
    "for state in probsStates:\n",
    "    probTheta.append(state[0])\n",
    "states = np.array(range(2**5))\n",
    "states = states / 2.0**5\n",
    "print(len(states))\n",
    "print(len(probTheta))\n",
    "plt.bar(states, probTheta, width=1.0 / 2**5)\n",
    "\n"
   ]
  },
  {
   "cell_type": "markdown",
   "metadata": {},
   "source": [
    "#### Shor"
   ]
  },
  {
   "cell_type": "code",
   "execution_count": 647,
   "metadata": {},
   "outputs": [],
   "source": [
    "import sympy\n",
    "def Shor(N):\n",
    "    if sympy.isprime(N):\n",
    "        print('prime')\n",
    "        return [-1,-1]\n",
    "    if N % 2 == 0:\n",
    "        print('even')\n",
    "        return [-1,-1]\n",
    "    for a in range(2, int(np.log2(N))):\n",
    "        tocheck = N ** (1.0/a)\n",
    "        if tocheck - int(tocheck) == 0:\n",
    "            print('N = x^a', a)\n",
    "            return [-1,-1]\n",
    "    x = np.random.randint(3, int(N**0.5) + 1)\n",
    "    while sympy.gcd(x, N) != 1:\n",
    "        x = np.random.randint(1, int(N**0.5) + 1)\n",
    "    print('gcd', x)\n",
    "    r = 1\n",
    "    while (x**r) % N != 1:\n",
    "        r = r + 1\n",
    "\n",
    "    if r % 2 != 0:\n",
    "        print('odd r')\n",
    "        return [-1,-1]\n",
    "    print(x,r)\n",
    "    result = [int(sympy.gcd(x**(r//2)-1, N)), int(sympy.gcd(N, x**(r//2)+1))]\n",
    "    if result[0] == 1 or result[1] == 1:\n",
    "        return [-1,-1]\n",
    "    return result"
   ]
  },
  {
   "cell_type": "code",
   "execution_count": 689,
   "metadata": {},
   "outputs": [
    {
     "name": "stdout",
     "output_type": "stream",
     "text": [
      "gcd 5\n",
      "5 10\n",
      "[11, 3]\n"
     ]
    }
   ],
   "source": [
    "a = Shor(33)\n",
    "print(a)"
   ]
  },
  {
   "cell_type": "code",
   "execution_count": 456,
   "metadata": {},
   "outputs": [],
   "source": [
    "def BuildU(x, N):\n",
    "    nBits = int(np.ceil(np.log2(N)))\n",
    "    U = np.zeros((N, N))\n",
    "    for i in range(U.shape[0]):\n",
    "        newNum = (i * x) % N\n",
    "        if newNum >= N:\n",
    "            U[i,i] = 1\n",
    "            continue\n",
    "        U[newNum, i] = 1\n",
    "    return U"
   ]
  },
  {
   "cell_type": "code",
   "execution_count": 882,
   "metadata": {},
   "outputs": [],
   "source": [
    "from fractions import Fraction\n",
    "def Shor2(N):\n",
    "    if sympy.isprime(N):\n",
    "        print('prime')\n",
    "        return [-1,-1]\n",
    "    if N % 2 == 0:\n",
    "        print('even')\n",
    "        return [-1,-1]\n",
    "    for a in range(2, int(np.log2(N))):\n",
    "        tocheck = N ** (1.0/a)\n",
    "        if tocheck - int(tocheck) == 0:\n",
    "            print('N = x^a', a)\n",
    "            return [-1,-1]\n",
    "    x = np.random.randint(3, int(N**0.5) + 1)\n",
    "    x=2\n",
    "    while sympy.gcd(x, N) != 1:\n",
    "        x = np.random.randint(1, int(N**0.5) + 1)\n",
    "    print(x)\n",
    "    u =BuildU(x, N)\n",
    "    e = np.unique(np.log(la.eigvals(u)) / (np.pi * 2) * 1.j)\n",
    "    r = 1\n",
    "    while (x**r) % N != 1:\n",
    "        r = r + 1\n",
    "\n",
    "    if r % 2 != 0:\n",
    "        print('odd r')\n",
    "        return [-1,-1]\n",
    "    result = [int(sympy.gcd(x**(r//2)-1, N)), int(sympy.gcd(N, x**(r//2)+1))]\n",
    "    if result[0] == 1 or result[1] == 1:\n",
    "        return [-1,-1]\n",
    "    return r, np.array(e,dtype=np.double)"
   ]
  },
  {
   "cell_type": "code",
   "execution_count": 898,
   "metadata": {},
   "outputs": [
    {
     "name": "stdout",
     "output_type": "stream",
     "text": [
      "2\n",
      "6 [0.5, 0.5, 0.33333333333333337, 0.3333333333333333, 0.16666666666666657, 0.16666666666666657, 0.3333333333333333, 0.33333333333333337]\n"
     ]
    },
    {
     "name": "stderr",
     "output_type": "stream",
     "text": [
      "C:\\Users\\Yubisoft\\AppData\\Local\\Temp/ipykernel_12400/3321343259.py:31: ComplexWarning: Casting complex values to real discards the imaginary part\n",
      "  return r, np.array(e,dtype=np.double)\n"
     ]
    }
   ],
   "source": [
    "r,e=Shor2(63)\n",
    "e = list(np.abs(e))\n",
    "epos = []\n",
    "for i in range(len(e)):\n",
    "    if e[i] > 0.0001:\n",
    "        epos.append(e[i])\n",
    "print(r,epos)\n",
    "\n",
    "period = Fraction(min(epos)).limit_denominator(20).denominator"
   ]
  },
  {
   "cell_type": "code",
   "execution_count": 903,
   "metadata": {},
   "outputs": [
    {
     "name": "stdout",
     "output_type": "stream",
     "text": [
      "(3.7493994566546454e-33+6.123233995736769e-17j)  |10000>   \n",
      "(-3.7493994566546454e-33+0j)  |10010>   \n",
      "(1.0000000000000002-1.2246467991473537e-16j)  |10100>   \n",
      "6.123233995736767e-17j  |10110>   \n"
     ]
    }
   ],
   "source": [
    "myState = [(1,'00')]\n",
    "myStateVec = StateToVec(myState)\n",
    "c = QuantumCircuitSparse(2, myStateVec, False)\n",
    "c.AddNot(0)\n",
    "c.AddNot(1)\n",
    "gate = c.circuit.todense()\n",
    "myState = [(1,'10010')]\n",
    "myStateVec = StateToVec(myState)\n",
    "test = QuantumCircuitSparse(5, myStateVec, True)\n",
    "test.AddCAboveU(0, 2, gate)\n",
    "result = test.Calculate(myStateVec)\n",
    "PrettyPrintBinary(VecToState(result['stateVectors']))"
   ]
  },
  {
   "cell_type": "code",
   "execution_count": 13,
   "metadata": {},
   "outputs": [
    {
     "name": "stdout",
     "output_type": "stream",
     "text": [
      "[[1. 0. 0. 0. 0. 0. 0. 1.]\n",
      " [0. 0. 0. 0. 0. 1. 0. 0.]\n",
      " [0. 0. 0. 1. 0. 0. 0. 0.]\n",
      " [0. 1. 0. 0. 0. 0. 0. 0.]\n",
      " [0. 0. 0. 0. 0. 0. 1. 0.]\n",
      " [0. 0. 0. 0. 1. 0. 0. 0.]\n",
      " [0. 0. 1. 0. 0. 0. 0. 0.]\n",
      " [0. 0. 0. 0. 0. 0. 0. 0.]]\n",
      "(1+0j)  |11010>   \n"
     ]
    }
   ],
   "source": [
    "result = ReadAndRun('cfunc.circuit')\n",
    "PrettyPrintBinary(VecToState(result))"
   ]
  }
 ],
 "metadata": {
  "interpreter": {
   "hash": "6fa38de30a27fcb0bf59b54ce44a2b464c5c8e7bd26f267b1fc4ef7d505fb8a8"
  },
  "kernelspec": {
   "display_name": "Python 3.9.7 64-bit ('scientific': conda)",
   "language": "python",
   "name": "python3"
  },
  "language_info": {
   "codemirror_mode": {
    "name": "ipython",
    "version": 3
   },
   "file_extension": ".py",
   "mimetype": "text/x-python",
   "name": "python",
   "nbconvert_exporter": "python",
   "pygments_lexer": "ipython3",
   "version": "3.9.7"
  },
  "orig_nbformat": 4
 },
 "nbformat": 4,
 "nbformat_minor": 2
}
