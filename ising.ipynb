{
 "cells": [
  {
   "cell_type": "code",
   "execution_count": 28,
   "metadata": {},
   "outputs": [],
   "source": [
    "import numpy as np\n",
    "import numpy.linalg as la\n",
    "import matplotlib.pyplot as plt\n"
   ]
  },
  {
   "cell_type": "code",
   "execution_count": 29,
   "metadata": {},
   "outputs": [],
   "source": [
    "class SpinsCfg:\n",
    "    def __init__(self, spins, beta):\n",
    "        self.spins = spins\n",
    "        self.beta = beta\n",
    "    def Energy(self):\n",
    "        spinPad = np.zeros((self.spins.shape[0]+2, self.spins.shape[1]+2))\n",
    "        spinPad[1:-1,1:-1] = self.spins\n",
    "        spinPad[1:-1,0] = self.spins[:,-1]\n",
    "        spinPad[1:-1,-1]= self.spins[:,0]\n",
    "        spinPad[0,1:-1] = self.spins[-1,:]\n",
    "        spinPad[-1,1:-1]= self.spins[0,:]\n",
    "        mulLeft = self.spins * spinPad[:-2,1:-1]\n",
    "        multRight = self.spins * spinPad[2:,1:-1]\n",
    "        multUp = self.spins * spinPad[1:-1, 2:]\n",
    "        multiDown = self.spins * spinPad[1:-1, :-2]\n",
    "        total = multiDown + multUp + mulLeft + multRight\n",
    "        total = np.sum(total)\n",
    "        return -total * 0.5\n",
    "    def MSqr(self):\n",
    "        N = self.spins.shape[0] * self.spins.shape[1]\n",
    "        return (1/N * np.sum(self.spins))**2\n",
    "    def DeltaE(self,flipIndex=[0,0]):\n",
    "        #print(self.spins)\n",
    "        #print(np.sum(self.Energy()))\n",
    "        #self.spins[flipIndex[0], flipIndex[1]] = -1 * self.spins[flipIndex[0], flipIndex[1]]\n",
    "        spinToFlip = -self.spins[flipIndex[0], flipIndex[1]].copy()\n",
    "        delta = 0\n",
    "        delta += spinToFlip * self.spins[(flipIndex[0]-1+self.spins.shape[0])%self.spins.shape[0], flipIndex[1]]\n",
    "        delta += spinToFlip * self.spins[(flipIndex[0]+1+self.spins.shape[0])%self.spins.shape[0], flipIndex[1]]\n",
    "        delta += spinToFlip * self.spins[flipIndex[0], (flipIndex[1]-1+self.spins.shape[0])%self.spins.shape[0]]\n",
    "        delta += spinToFlip * self.spins[flipIndex[0], (flipIndex[1]+1+self.spins.shape[0])%self.spins.shape[0]]\n",
    "        delta = delta * 2\n",
    "        return -delta\n",
    "    \n",
    "    def Step(self):\n",
    "        randIndex = np.random.randint(0, self.spins.shape[0], 2)\n",
    "        deltaE = self.DeltaE(randIndex)\n",
    "        prob = np.exp(-deltaE * self.beta)\n",
    "        #print(prob)\n",
    "        if prob > np.random.rand():\n",
    "            self.spins[randIndex[0], randIndex[1]] = -self.spins[randIndex[0], randIndex[1]]"
   ]
  },
  {
   "cell_type": "code",
   "execution_count": 3,
   "metadata": {},
   "outputs": [
    {
     "name": "stdout",
     "output_type": "stream",
     "text": [
      "-18.0\n",
      "8.0\n",
      "[[-1.  1.  1.]\n",
      " [ 1.  1.  1.]\n",
      " [ 1.  1.  1.]]\n",
      "-10.0\n"
     ]
    },
    {
     "data": {
      "text/plain": [
       "'print(spinTest)\\nprint(Spins2Int(spinTest))\\nprint(Int2Spins(Spins2Int(spinTest), 3))'"
      ]
     },
     "execution_count": 3,
     "metadata": {},
     "output_type": "execute_result"
    }
   ],
   "source": [
    "spinTest = np.ones((3,3))\n",
    "spintestCfg = SpinsCfg(spinTest, 0.1)\n",
    "print(spintestCfg.Energy())\n",
    "print(spintestCfg.DeltaE([0,0]))\n",
    "spintestCfg.spins[0,0] = -1\n",
    "print(spintestCfg.spins)\n",
    "print(spintestCfg.Energy())\n",
    "\"\"\"print(spinTest)\n",
    "print(Spins2Int(spinTest))\n",
    "print(Int2Spins(Spins2Int(spinTest), 3))\"\"\""
   ]
  },
  {
   "cell_type": "code",
   "execution_count": 30,
   "metadata": {},
   "outputs": [],
   "source": [
    "L = 3\n",
    "N = L * L\n",
    "ref = np.zeros(N,dtype=int)\n",
    "for i in range(N):\n",
    "    ref[i] = 2**(N-1-i)\n",
    "ref = ref.reshape((L,L))\n",
    "\n",
    "def Cfg2Int(spins):\n",
    "    spins01 = -(spins - 1) * 0.5\n",
    "    return int(np.sum(spins01 * ref))\n",
    "def Int2Cfg(i, L):\n",
    "    N = L * L\n",
    "    spinsBin = list(bin(i)[2:])\n",
    "    spins = np.zeros(N, dtype=int)\n",
    "    spins[-len(spinsBin):] = spinsBin\n",
    "    spins = spins.reshape((L,L))\n",
    "    spins = -2*spins+1\n",
    "    return spins"
   ]
  },
  {
   "cell_type": "code",
   "execution_count": 31,
   "metadata": {},
   "outputs": [
    {
     "data": {
      "text/plain": [
       "<BarContainer object of 512 artists>"
      ]
     },
     "execution_count": 31,
     "metadata": {},
     "output_type": "execute_result"
    },
    {
     "data": {
      "image/png": "[encoded data removed]",
      "text/plain": [
       "<Figure size 432x288 with 1 Axes>"
      ]
     },
     "metadata": {
      "needs_background": "light"
     },
     "output_type": "display_data"
    }
   ],
   "source": [
    "\n",
    "beta = 0.1\n",
    "spins = np.random.choice([1,-1], (L,L))\n",
    "#spins = np.ones((L,L))\n",
    "spinCfg = SpinsCfg(spins.copy(), beta)\n",
    "for sweep in range(20):\n",
    "    for step in range(N):\n",
    "        spinCfg.Step()\n",
    "cfgCountMC = np.zeros(2**N)\n",
    "cfgAll = np.arange(2**N)\n",
    "for sweep in range(10000):\n",
    "    for step in range(N):\n",
    "        spinCfg.Step()\n",
    "    spinInt = Cfg2Int(spinCfg.spins)\n",
    "    cfgCountMC[spinInt] += 1\n",
    "cfgMProbMC = cfgCountMC / np.sum(cfgCountMC)\n",
    "plt.bar(cfgAll, cfgMProbMC)"
   ]
  },
  {
   "cell_type": "markdown",
   "metadata": {},
   "source": [
    "cfgEnergy\n",
    "cfgProbTheory\n",
    "cfgEnergyTheory"
   ]
  },
  {
   "cell_type": "code",
   "execution_count": 32,
   "metadata": {},
   "outputs": [
    {
     "data": {
      "text/plain": [
       "<matplotlib.collections.PathCollection at 0x123b0611c70>"
      ]
     },
     "execution_count": 32,
     "metadata": {},
     "output_type": "execute_result"
    },
    {
     "data": {
      "image/png": "[encoded data removed]",
      "text/plain": [
       "<Figure size 432x288 with 1 Axes>"
      ]
     },
     "metadata": {
      "needs_background": "light"
     },
     "output_type": "display_data"
    }
   ],
   "source": [
    "cfgEnergyTheory = np.zeros(2**N)\n",
    "cfgAll = np.arange(2**N)\n",
    "beta = 0.1\n",
    "for i in range(2**N):\n",
    "    spinTemp = Int2Cfg(i,L)\n",
    "    cfgTemp = SpinsCfg(spinTemp, beta)\n",
    "    cfgEnergyTheory[i] = cfgTemp.Energy()\n",
    "cfgProbTheory = np.exp(-cfgEnergyTheory*beta)\n",
    "cfgProbTheory = cfgProbTheory/np.sum(cfgProbTheory)\n",
    "plt.bar(cfgAll,cfgMProbMC)\n",
    "plt.scatter(cfgAll, cfgProbTheory, color='orange')"
   ]
  },
  {
   "cell_type": "markdown",
   "metadata": {},
   "source": [
    "Monte Carlo Distribution"
   ]
  },
  {
   "cell_type": "code",
   "execution_count": 33,
   "metadata": {},
   "outputs": [],
   "source": [
    "L=27\n",
    "N = L * L\n",
    "#spins = np.random.choice([1,-1], (L,L))\n",
    "spinsAllUp = np.ones((L,L))\n",
    "tao = 4\n",
    "energyDistributionMC = []\n",
    "mSqrDistributionMC = []\n",
    "snapShotOverBetanMC = []\n",
    "betaArray = np.zeros(12)\n",
    "betaArray[:11] = np.linspace(0,1,11)\n",
    "betaArray[11] = 10\n",
    "for beta in betaArray:\n",
    "    spinCfg = SpinsCfg(spinsAllUp.copy(), beta)\n",
    "    for sweep in range(20):\n",
    "        for step in range(N):\n",
    "            spinCfg.Step()\n",
    "    energyTemp = []\n",
    "    msqrTemp = []\n",
    "    for step in range(10000):\n",
    "        for step in range(tao):\n",
    "            spinCfg.Step()\n",
    "        energyTemp.append(spinCfg.Energy())\n",
    "        msqrTemp.append(spinCfg.MSqr())\n",
    "    snapShotOverBetanMC.append(spinCfg.spins)\n",
    "\n",
    "    energyDistributionMC.append(np.array(energyTemp))\n",
    "    mSqrDistributionMC.append(np.array(msqrTemp))\n",
    "\n",
    "energyDistributionMC = np.array(energyDistributionMC)\n",
    "mSqrDistributionMC = np.array(mSqrDistributionMC)"
   ]
  },
  {
   "cell_type": "markdown",
   "metadata": {},
   "source": [
    "Theoretical DIstribution"
   ]
  },
  {
   "cell_type": "code",
   "execution_count": 8,
   "metadata": {},
   "outputs": [
    {
     "ename": "ValueError",
     "evalue": "Maximum allowed dimension exceeded",
     "output_type": "error",
     "traceback": [
      "\u001b[1;31m---------------------------------------------------------------------------\u001b[0m",
      "\u001b[1;31mValueError\u001b[0m                                Traceback (most recent call last)",
      "\u001b[1;32m~\\AppData\\Local\\Temp/ipykernel_35440/1276619592.py\u001b[0m in \u001b[0;36m<module>\u001b[1;34m\u001b[0m\n\u001b[1;32m----> 1\u001b[1;33m \u001b[0mcfgProbDistributionTheory\u001b[0m \u001b[1;33m=\u001b[0m \u001b[0mnp\u001b[0m\u001b[1;33m.\u001b[0m\u001b[0mzeros\u001b[0m\u001b[1;33m(\u001b[0m\u001b[1;33m(\u001b[0m\u001b[0mbetaArray\u001b[0m\u001b[1;33m.\u001b[0m\u001b[0mshape\u001b[0m\u001b[1;33m[\u001b[0m\u001b[1;36m0\u001b[0m\u001b[1;33m]\u001b[0m\u001b[1;33m,\u001b[0m \u001b[1;36m2\u001b[0m\u001b[1;33m**\u001b[0m\u001b[0mN\u001b[0m\u001b[1;33m)\u001b[0m\u001b[1;33m)\u001b[0m\u001b[1;33m\u001b[0m\u001b[1;33m\u001b[0m\u001b[0m\n\u001b[0m\u001b[0;32m      2\u001b[0m \u001b[0mcfgEnergyDistributionTheory\u001b[0m \u001b[1;33m=\u001b[0m \u001b[0mnp\u001b[0m\u001b[1;33m.\u001b[0m\u001b[0mzeros\u001b[0m\u001b[1;33m(\u001b[0m\u001b[1;33m(\u001b[0m\u001b[0mbetaArray\u001b[0m\u001b[1;33m.\u001b[0m\u001b[0mshape\u001b[0m\u001b[1;33m[\u001b[0m\u001b[1;36m0\u001b[0m\u001b[1;33m]\u001b[0m\u001b[1;33m,\u001b[0m \u001b[1;36m2\u001b[0m\u001b[1;33m**\u001b[0m\u001b[0mN\u001b[0m\u001b[1;33m)\u001b[0m\u001b[1;33m)\u001b[0m\u001b[1;33m\u001b[0m\u001b[1;33m\u001b[0m\u001b[0m\n\u001b[0;32m      3\u001b[0m \u001b[0mcfgMSqrDistributionTheory\u001b[0m \u001b[1;33m=\u001b[0m \u001b[0mnp\u001b[0m\u001b[1;33m.\u001b[0m\u001b[0mzeros\u001b[0m\u001b[1;33m(\u001b[0m\u001b[1;33m(\u001b[0m\u001b[0mbetaArray\u001b[0m\u001b[1;33m.\u001b[0m\u001b[0mshape\u001b[0m\u001b[1;33m[\u001b[0m\u001b[1;36m0\u001b[0m\u001b[1;33m]\u001b[0m\u001b[1;33m,\u001b[0m \u001b[1;36m2\u001b[0m\u001b[1;33m**\u001b[0m\u001b[0mN\u001b[0m\u001b[1;33m)\u001b[0m\u001b[1;33m)\u001b[0m\u001b[1;33m\u001b[0m\u001b[1;33m\u001b[0m\u001b[0m\n\u001b[0;32m      4\u001b[0m \u001b[1;32mfor\u001b[0m \u001b[0mb\u001b[0m \u001b[1;32min\u001b[0m \u001b[0mrange\u001b[0m\u001b[1;33m(\u001b[0m\u001b[0mbetaArray\u001b[0m\u001b[1;33m.\u001b[0m\u001b[0mshape\u001b[0m\u001b[1;33m[\u001b[0m\u001b[1;36m0\u001b[0m\u001b[1;33m]\u001b[0m\u001b[1;33m)\u001b[0m\u001b[1;33m:\u001b[0m\u001b[1;33m\u001b[0m\u001b[1;33m\u001b[0m\u001b[0m\n\u001b[0;32m      5\u001b[0m     \u001b[1;32mfor\u001b[0m \u001b[0mi\u001b[0m \u001b[1;32min\u001b[0m \u001b[0mrange\u001b[0m\u001b[1;33m(\u001b[0m\u001b[1;36m2\u001b[0m\u001b[1;33m**\u001b[0m\u001b[0mN\u001b[0m\u001b[1;33m)\u001b[0m\u001b[1;33m:\u001b[0m\u001b[1;33m\u001b[0m\u001b[1;33m\u001b[0m\u001b[0m\n",
      "\u001b[1;31mValueError\u001b[0m: Maximum allowed dimension exceeded"
     ]
    }
   ],
   "source": [
    "cfgProbDistributionTheory = np.zeros((betaArray.shape[0], 2**N))\n",
    "cfgEnergyDistributionTheory = np.zeros((betaArray.shape[0], 2**N))\n",
    "cfgMSqrDistributionTheory = np.zeros((betaArray.shape[0], 2**N))\n",
    "for b in range(betaArray.shape[0]):\n",
    "    for i in range(2**N):\n",
    "        spinTemp = Int2Cfg(i,L)\n",
    "        cfgTemp = SpinsCfg(spinTemp, betaArray[b])\n",
    "        cfgEnergyDistributionTheory[b,i] = cfgTemp.Energy()\n",
    "        cfgMSqrDistributionTheory[b,i] = cfgTemp.MSqr()\n",
    "cfgProbDistributionTheory = np.exp(-cfgEnergyDistributionTheory * betaArray.reshape(-1,1))\n",
    "\n",
    "cfgProbDistributionTheory = cfgProbDistributionTheory/np.sum(cfgProbDistributionTheory, axis=1).reshape(-1,1)"
   ]
  },
  {
   "cell_type": "markdown",
   "metadata": {},
   "source": [
    "Theoretical beta=0 and inf"
   ]
  },
  {
   "cell_type": "code",
   "execution_count": 56,
   "metadata": {},
   "outputs": [],
   "source": [
    "energyMeanTheory0 = 0\n",
    "mSqrMeanTheory0 = 0\n",
    "energyMeanTheoryInf = 0\n",
    "mSqrMeanTheoryInf = 1"
   ]
  },
  {
   "cell_type": "markdown",
   "metadata": {},
   "source": [
    "Plot Monte Carlo E and M^2"
   ]
  },
  {
   "cell_type": "code",
   "execution_count": 8,
   "metadata": {},
   "outputs": [
    {
     "data": {
      "image/png": "[encoded data removed]",
      "text/plain": [
       "<Figure size 720x720 with 2 Axes>"
      ]
     },
     "metadata": {
      "needs_background": "light"
     },
     "output_type": "display_data"
    }
   ],
   "source": [
    "energyMeanMC = np.mean(energyDistributionMC, axis=1)\n",
    "energyStdMC = np.sum((energyDistributionMC - energyMeanMC.reshape(-1,1))**2, axis=1)**0.5 / (N / tao)**0.5\n",
    "\n",
    "\n",
    "mSqrMeanMC = np.mean(mSqrDistributionMC, axis=1)\n",
    "mSqrStdMC = np.sum((mSqrDistributionMC - mSqrMeanMC.reshape(-1,1))**2, axis=1)**0.5 / (N / tao)**0.5\n",
    "\n",
    "fig = plt.figure(figsize=(10,10))\n",
    "ax1 = plt.subplot(211)\n",
    "ax1.scatter(betaArray[:-1], energyMeanMC[:-1], color='orange')\n",
    "for i in range(betaArray.shape[0]-1):\n",
    "    ax1.plot([betaArray[i],betaArray[i]],[energyMeanMC[i]+energyStdMC[i], energyMeanMC[i]-energyStdMC[i]],color='red')\n",
    "\n",
    "ax2 = plt.subplot(212)\n",
    "ax2.scatter(betaArray[:-1], mSqrMeanMC[:-1], color='orange')\n",
    "for i in range(betaArray.shape[0]-1):\n",
    "    ax2.plot([betaArray[i],betaArray[i]],[mSqrMeanMC[i]+mSqrStdMC[i], mSqrMeanMC[i]-mSqrStdMC[i]],color='red')"
   ]
  },
  {
   "cell_type": "code",
   "execution_count": 83,
   "metadata": {},
   "outputs": [
    {
     "name": "stdout",
     "output_type": "stream",
     "text": [
      "[0.00129689 0.00170272 0.00346377 0.00726429 0.29187373 0.83443928\n",
      " 0.95695778 0.98755071 0.98857146 0.99688529 0.99849474 1.        ]\n",
      "[   -4.1852  -148.2208  -317.7224  -504.5636  -888.1388 -1281.9012\n",
      " -1400.766  -1440.3576 -1442.8584 -1453.5412 -1455.9324 -1458.    ]\n"
     ]
    },
    {
     "data": {
      "image/png": "[encoded data removed]",
      "text/plain": [
       "<Figure size 432x288 with 1 Axes>"
      ]
     },
     "metadata": {
      "needs_background": "light"
     },
     "output_type": "display_data"
    }
   ],
   "source": [
    "\n",
    "plt.imshow(snapShotOverBetanMC[11])\n",
    "print(mSqrMeanMC)\n",
    "print(energyMeanMC)"
   ]
  },
  {
   "cell_type": "markdown",
   "metadata": {},
   "source": [
    "Plot Theoretical E and M^2 for small L"
   ]
  },
  {
   "cell_type": "code",
   "execution_count": 13,
   "metadata": {},
   "outputs": [
    {
     "data": {
      "text/plain": [
       "[<matplotlib.lines.Line2D at 0x251be2c65e0>]"
      ]
     },
     "execution_count": 13,
     "metadata": {},
     "output_type": "execute_result"
    },
    {
     "data": {
      "image/png": "[encoded data removed]",
      "text/plain": [
       "<Figure size 720x720 with 2 Axes>"
      ]
     },
     "metadata": {
      "needs_background": "light"
     },
     "output_type": "display_data"
    }
   ],
   "source": [
    "energyMeanTheory = np.sum(cfgProbDistributionTheory * cfgEnergyDistributionTheory, axis=1)\n",
    "mSqrMeanTheory = np.sum(cfgProbDistributionTheory * cfgMSqrDistributionTheory, axis=1)\n",
    "fig = plt.figure(figsize=(10,10))\n",
    "ax1 = plt.subplot(211)\n",
    "ax1.plot(betaArray[:-1], energyMeanTheory[:-1])\n",
    "ax2 = plt.subplot(212)\n",
    "ax2.plot(betaArray[:-1], mSqrMeanTheory[:-1])"
   ]
  },
  {
   "cell_type": "markdown",
   "metadata": {},
   "source": [
    "Plot monte carlo P(E)"
   ]
  },
  {
   "cell_type": "code",
   "execution_count": 54,
   "metadata": {},
   "outputs": [
    {
     "name": "stdout",
     "output_type": "stream",
     "text": [
      "(1,)\n"
     ]
    },
    {
     "data": {
      "text/plain": [
       "<BarContainer object of 1 artists>"
      ]
     },
     "execution_count": 54,
     "metadata": {},
     "output_type": "execute_result"
    },
    {
     "data": {
      "image/png": "[encoded data removed]",
      "text/plain": [
       "<Figure size 720x720 with 2 Axes>"
      ]
     },
     "metadata": {
      "needs_background": "light"
     },
     "output_type": "display_data"
    }
   ],
   "source": [
    "betaIndex = 11\n",
    "\n",
    "energyUniqueMC = np.unique(energyDistributionMC[betaIndex,:])\n",
    "energyProbMC = np.zeros_like(energyUniqueMC)\n",
    "\n",
    "mSqrUniqueMC = np.unique(mSqrDistributionMC[betaIndex,:])\n",
    "mSqrProbMC = np.zeros_like(mSqrUniqueMC)\n",
    "\n",
    "for i in range(mSqrProbMC.shape[0]):\n",
    "    for j in range(mSqrDistributionMC.shape[1]):\n",
    "        if mSqrUniqueMC[i] == mSqrDistributionMC[betaIndex,j]:\n",
    "            mSqrProbMC[i] += 1/mSqrDistributionMC.shape[1]\n",
    "\n",
    "for i in range(energyProbMC.shape[0]):\n",
    "    for j in range(energyDistributionMC.shape[1]):\n",
    "        if energyUniqueMC[i] == energyDistributionMC[betaIndex,j]:\n",
    "            energyProbMC[i] += 1/energyDistributionMC.shape[1]\n",
    "\n",
    "figure = plt.figure(figsize=(10,10))\n",
    "print(energyUniqueMC.shape)\n",
    "\n",
    "\n",
    "ax1 = plt.subplot(211)\n",
    "ax1.scatter(energyMeanMC[betaIndex],0.05, color='orange')\n",
    "ax1.bar(energyUniqueMC, energyProbMC, width =0.0005)\n",
    "ax2 = plt.subplot(212)\n",
    "ax2.bar(mSqrUniqueMC, mSqrProbMC, width = 0.0005)"
   ]
  },
  {
   "cell_type": "markdown",
   "metadata": {},
   "source": [
    "Plot Theoretical P(E), P(M^2)"
   ]
  },
  {
   "cell_type": "code",
   "execution_count": 11,
   "metadata": {},
   "outputs": [
    {
     "ename": "NameError",
     "evalue": "name 'cfgEnergyDistributionTheory' is not defined",
     "output_type": "error",
     "traceback": [
      "\u001b[1;31m---------------------------------------------------------------------------\u001b[0m",
      "\u001b[1;31mNameError\u001b[0m                                 Traceback (most recent call last)",
      "\u001b[1;32m~\\AppData\\Local\\Temp/ipykernel_35440/4277015897.py\u001b[0m in \u001b[0;36m<module>\u001b[1;34m\u001b[0m\n\u001b[0;32m      1\u001b[0m \u001b[0mbetaIndex\u001b[0m \u001b[1;33m=\u001b[0m \u001b[1;36m0\u001b[0m\u001b[1;33m\u001b[0m\u001b[1;33m\u001b[0m\u001b[0m\n\u001b[0;32m      2\u001b[0m \u001b[1;33m\u001b[0m\u001b[0m\n\u001b[1;32m----> 3\u001b[1;33m \u001b[0menergyUniqueTheory\u001b[0m \u001b[1;33m=\u001b[0m \u001b[0mnp\u001b[0m\u001b[1;33m.\u001b[0m\u001b[0munique\u001b[0m\u001b[1;33m(\u001b[0m\u001b[0mcfgEnergyDistributionTheory\u001b[0m\u001b[1;33m[\u001b[0m\u001b[0mbetaIndex\u001b[0m\u001b[1;33m,\u001b[0m\u001b[1;33m:\u001b[0m\u001b[1;33m]\u001b[0m\u001b[1;33m)\u001b[0m\u001b[1;33m\u001b[0m\u001b[1;33m\u001b[0m\u001b[0m\n\u001b[0m\u001b[0;32m      4\u001b[0m \u001b[0menergyProbTheory\u001b[0m \u001b[1;33m=\u001b[0m \u001b[0mnp\u001b[0m\u001b[1;33m.\u001b[0m\u001b[0mzeros_like\u001b[0m\u001b[1;33m(\u001b[0m\u001b[0menergyUniqueTheory\u001b[0m\u001b[1;33m)\u001b[0m\u001b[1;33m\u001b[0m\u001b[1;33m\u001b[0m\u001b[0m\n\u001b[0;32m      5\u001b[0m \u001b[1;33m\u001b[0m\u001b[0m\n",
      "\u001b[1;31mNameError\u001b[0m: name 'cfgEnergyDistributionTheory' is not defined"
     ]
    }
   ],
   "source": [
    "betaIndex = 0\n",
    "\n",
    "energyUniqueTheory = np.unique(cfgEnergyDistributionTheory[betaIndex,:])\n",
    "energyProbTheory = np.zeros_like(energyUniqueTheory)\n",
    "\n",
    "mSqrUniqueTheory = np.unique(cfgMSqrDistributionTheory[betaIndex,:])\n",
    "mSqrProbTheory = np.array(np.zeros_like(mSqrUniqueTheory))\n",
    "\n",
    "for i in range(energyProbTheory.shape[0]):\n",
    "    for j in range(cfgEnergyDistributionTheory.shape[1]):\n",
    "        if energyUniqueTheory[i] == cfgEnergyDistributionTheory[betaIndex,j]:\n",
    "            energyProbTheory[i] += cfgProbDistributionTheory[betaIndex,j]\n",
    "for i in range(mSqrProbTheory.shape[0]):\n",
    "    for j in range(cfgMSqrDistributionTheory.shape[1]):\n",
    "        if mSqrUniqueTheory[i] == cfgMSqrDistributionTheory[betaIndex,j]:\n",
    "            mSqrProbTheory[i] += cfgProbDistributionTheory[betaIndex,j]\n",
    "fig = plt.figure(figsize=(10,10))\n",
    "ax1 = plt.subplot(211)\n",
    "ax1.bar(energyUniqueTheory, energyProbTheory)\n",
    "ax2 = plt.subplot(212)\n",
    "ax2.bar(mSqrUniqueTheory, mSqrProbTheory, width=0.05)"
   ]
  },
  {
   "cell_type": "markdown",
   "metadata": {},
   "source": [
    "Get specific heat"
   ]
  },
  {
   "cell_type": "code",
   "execution_count": 10,
   "metadata": {},
   "outputs": [
    {
     "data": {
      "text/plain": [
       "[<matplotlib.lines.Line2D at 0x123af8c0ac0>]"
      ]
     },
     "execution_count": 10,
     "metadata": {},
     "output_type": "execute_result"
    },
    {
     "data": {
      "image/png": "[encoded data removed]",
      "text/plain": [
       "<Figure size 432x288 with 1 Axes>"
      ]
     },
     "metadata": {
      "needs_background": "light"
     },
     "output_type": "display_data"
    }
   ],
   "source": [
    "from scipy.interpolate import UnivariateSpline\n",
    "energyMeanSpline = UnivariateSpline(betaArray[:-1], energyMeanMC[:-1], k=2)\n",
    "dEOverdBeta = energyMeanSpline.derivative()\n",
    "dBetaOverdTemp = -betaArray[:-1]**2\n",
    "specificHeatOverBeta = dBetaOverdTemp * dEOverdBeta(betaArray[:-1])\n",
    "plt.plot(betaArray[:-1], specificHeatOverBeta)"
   ]
  },
  {
   "cell_type": "code",
   "execution_count": 86,
   "metadata": {},
   "outputs": [
    {
     "data": {
      "text/plain": [
       "<matplotlib.image.AxesImage at 0x184cc3b1430>"
      ]
     },
     "execution_count": 86,
     "metadata": {},
     "output_type": "execute_result"
    },
    {
     "data": {
      "image/png": "[encoded data removed]",
      "text/plain": [
       "<Figure size 432x288 with 1 Axes>"
      ]
     },
     "metadata": {
      "needs_background": "light"
     },
     "output_type": "display_data"
    }
   ],
   "source": [
    "\n",
    "plt.imshow(snapShotOverBetanMC[11])"
   ]
  },
  {
   "cell_type": "markdown",
   "metadata": {},
   "source": [
    "Coarse Grain"
   ]
  },
  {
   "cell_type": "code",
   "execution_count": 57,
   "metadata": {},
   "outputs": [],
   "source": [
    "def Coarse(spins):\n",
    "    spinMean = np.zeros((spins.shape[0]//3, spins.shape[0]//3))\n",
    "    for i in range(spins.shape[0] // 3):\n",
    "        for j in range(spins.shape[0] // 3):\n",
    "            for di in range(3):\n",
    "                for dj in range(3):\n",
    "                    spinMean[i,j] += spins[i*3+di, j*3+dj] / 9\n",
    "    spinOutput = np.where(spinMean>0,1,-1)\n",
    "    return spinOutput"
   ]
  },
  {
   "cell_type": "code",
   "execution_count": 63,
   "metadata": {},
   "outputs": [],
   "source": [
    "L=81\n",
    "N = L * L\n",
    "tao = 4\n",
    "\n",
    "spinsAllUp = np.ones((L,L))\n",
    "\n",
    "tao = 4\n",
    "betaJArray = np.array([0.0,0.3,0.4,0.5,0.6,10])\n",
    "snapSHotOverBetaCG = []\n",
    "\n",
    "for i in range(betaJArray.shape[0]):\n",
    "    betaJ = betaJArray[i]\n",
    "    spinCfg = SpinsCfg(spinsAllUp.copy(), betaJ)\n",
    "    for sweep in range(20):\n",
    "        for step in range(N):\n",
    "            spinCfg.Step()\n",
    "            \n",
    "    for step in range(10000):\n",
    "        for step in range(tao):\n",
    "            spinCfg.Step()\n",
    "    snapSHotOverBetaCG.append([])\n",
    "    snapSHotOverBetaCG[i].append(spinCfg.spins)\n",
    "    snapSHotOverBetaCG[i].append(Coarse(spinCfg.spins))\n",
    "    snapSHotOverBetaCG[i].append(Coarse(Coarse(spinCfg.spins)))"
   ]
  },
  {
   "cell_type": "code",
   "execution_count": 71,
   "metadata": {},
   "outputs": [
    {
     "data": {
      "text/plain": [
       "<matplotlib.image.AxesImage at 0x123b654ba00>"
      ]
     },
     "execution_count": 71,
     "metadata": {},
     "output_type": "execute_result"
    },
    {
     "data": {
      "image/png": "[encoded data removed]",
      "text/plain": [
       "<Figure size 720x720 with 3 Axes>"
      ]
     },
     "metadata": {
      "needs_background": "light"
     },
     "output_type": "display_data"
    }
   ],
   "source": [
    "betaIndex = 5\n",
    "fig = plt.figure(figsize=(10,10))\n",
    "ax1 = plt.subplot(311)\n",
    "ax1.imshow(snapSHotOverBetaCG[betaIndex][0])\n",
    "ax1 = plt.subplot(312)\n",
    "ax1.imshow(snapSHotOverBetaCG[betaIndex][1])\n",
    "ax1 = plt.subplot(313)\n",
    "ax1.imshow(snapSHotOverBetaCG[betaIndex][2])"
   ]
  },
  {
   "cell_type": "code",
   "execution_count": 84,
   "metadata": {},
   "outputs": [],
   "source": [
    "L=81\n",
    "N = L * L\n",
    "tao = 4\n",
    "\n",
    "spinsAllUp = np.ones((L,L))\n",
    "spinsAllUpRef = np.ones((L//3, L//3))\n",
    "\n",
    "tao = 4\n",
    "mSqrDistributionMCRef = []\n",
    "mSqrDistributionMCCG = []\n",
    "betaJArray = np.array([0.0,0.3,0.4,0.5,0.6,10])\n",
    "\n",
    "\n",
    "for betaJ in betaJArray:\n",
    "    spinCfg = SpinsCfg(spinsAllUp.copy(), betaJ)\n",
    "    spinCfgRef = SpinsCfg(spinsAllUpRef.copy(), betaJ)\n",
    "    for sweep in range(20):\n",
    "        for step in range(N):\n",
    "            spinCfg.Step()\n",
    "            spinCfgRef.Step()\n",
    "            \n",
    "    msqrTempRef = []\n",
    "    msqrTempCG = []\n",
    "    for step in range(10000):\n",
    "        for step in range(tao):\n",
    "            spinCfg.Step()\n",
    "            spinCfgRef.Step()\n",
    "        spinCfgCG = SpinsCfg(Coarse(spinCfg.spins), betaJ)\n",
    "        msqrTempCG.append(spinCfgCG.MSqr())\n",
    "        spinCfgCG2 = SpinsCfg(Coarse(spinCfgCG.spins), betaJ)\n",
    "        msqrTempRef.append(spinCfgRef.MSqr())\n",
    "    mSqrDistributionMCCG.append(np.array(msqrTempCG))\n",
    "    mSqrDistributionMCRef.append(np.array(msqrTempRef))\n",
    "\n",
    "mSqrDistributionMCCG = np.array(mSqrDistributionMCCG)\n",
    "mSqrDistributionMCRef = np.array(mSqrDistributionMCRef)"
   ]
  },
  {
   "cell_type": "code",
   "execution_count": 88,
   "metadata": {},
   "outputs": [
    {
     "data": {
      "text/plain": [
       "Text(0.5, 1.0, 'native')"
      ]
     },
     "execution_count": 88,
     "metadata": {},
     "output_type": "execute_result"
    },
    {
     "data": {
      "image/png": "[encoded data removed]",
      "text/plain": [
       "<Figure size 720x720 with 2 Axes>"
      ]
     },
     "metadata": {
      "needs_background": "light"
     },
     "output_type": "display_data"
    }
   ],
   "source": [
    "mSqrMeanMCCG = np.mean(mSqrDistributionMCCG, axis=1)\n",
    "mSqrStdMCCG = np.sum((mSqrDistributionMCCG - mSqrMeanMCCG.reshape(-1,1))**2, axis=1)**0.5 / (N / tao)**0.5\n",
    "mSqrMeanMCNative = np.mean(mSqrDistributionMCRef, axis=1)\n",
    "mSqrStdMCNative = np.sum((mSqrDistributionMCRef - mSqrMeanMCNative.reshape(-1,1))**2, axis=1)**0.5 / (N / tao)**0.5\n",
    "\n",
    "\n",
    "fig = plt.figure(figsize=(10,10))\n",
    "ax1 = plt.subplot(311)\n",
    "ax1.plot(betaJArray[:-1], mSqrMeanMCCG[:-1], color='orange')\n",
    "ax1.set_title('coarse grain')\n",
    "for i in range(betaJArray.shape[0]-1):\n",
    "    ax1.plot([betaJArray[i],betaJArray[i]],[mSqrMeanMCCG[i]+mSqrStdMCCG[i], mSqrMeanMCCG[i]-mSqrStdMCCG[i]],color='red')\n",
    "\n",
    "ax2 = plt.subplot(312)\n",
    "ax2.plot(betaJArray[:-1], mSqrMeanMCNative[:-1], color='orange')\n",
    "for i in range(betaJArray.shape[0]-1):\n",
    "    ax2.plot([betaJArray[i],betaJArray[i]],[mSqrMeanMCNative[i]+mSqrStdMCNative[i], mSqrMeanMCNative[i]-mSqrStdMCNative[i]],color='red')\n",
    "ax2.set_title('native')\n",
    "\n"
   ]
  },
  {
   "cell_type": "code",
   "execution_count": 97,
   "metadata": {},
   "outputs": [
    {
     "name": "stdout",
     "output_type": "stream",
     "text": [
      "[0.00116369 0.01099262 0.04904161 0.83962598 0.94585882 1.        ]\n",
      "[0.00350642 0.00736762 0.4422501  0.9885658  0.99894951 1.        ]\n",
      "[ 0.071505    0.18935705  0.44973644  8.01479239  9.81761344 10.        ]\n",
      "[ 0.   0.3  0.4  0.5  0.6 10. ]\n"
     ]
    },
    {
     "data": {
      "text/plain": [
       "[<matplotlib.lines.Line2D at 0x123b8068160>]"
      ]
     },
     "execution_count": 97,
     "metadata": {},
     "output_type": "execute_result"
    },
    {
     "data": {
      "image/png": "[encoded data removed]",
      "text/plain": [
       "<Figure size 432x288 with 1 Axes>"
      ]
     },
     "metadata": {
      "needs_background": "light"
     },
     "output_type": "display_data"
    }
   ],
   "source": [
    "from scipy.interpolate import interp1d\n",
    "print(mSqrMeanMCNative)\n",
    "print(mSqrMeanMCCG)\n",
    "mSqrMeanMCNativeInterp = interp1d(mSqrMeanMCNative, betaJArray)\n",
    "betaJReverse = mSqrMeanMCNativeInterp(mSqrMeanMCCG)\n",
    "print(betaJReverse)\n",
    "print(betaJArray)\n",
    "plt.plot(betaJArray[:-1],betaJReverse[:-1])\n",
    "plt.plot([0,1],[0,1])"
   ]
  }
 ],
 "metadata": {
  "interpreter": {
   "hash": "6fa38de30a27fcb0bf59b54ce44a2b464c5c8e7bd26f267b1fc4ef7d505fb8a8"
  },
  "kernelspec": {
   "display_name": "Python 3.9.7 ('scientific')",
   "language": "python",
   "name": "python3"
  },
  "language_info": {
   "codemirror_mode": {
    "name": "ipython",
    "version": 3
   },
   "file_extension": ".py",
   "mimetype": "text/x-python",
   "name": "python",
   "nbconvert_exporter": "python",
   "pygments_lexer": "ipython3",
   "version": "3.9.7"
  },
  "orig_nbformat": 4
 },
 "nbformat": 4,
 "nbformat_minor": 2
}
